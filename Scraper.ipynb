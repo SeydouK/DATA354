{
  "nbformat": 4,
  "nbformat_minor": 0,
  "metadata": {
    "colab": {
      "provenance": []
    },
    "kernelspec": {
      "name": "python3",
      "display_name": "Python 3"
    },
    "language_info": {
      "name": "python"
    }
  },
  "cells": [
    {
      "cell_type": "code",
      "execution_count": 1,
      "metadata": {
        "id": "mzRkjiCD9TcT"
      },
      "outputs": [],
      "source": [
        "from bs4 import BeautifulSoup\n",
        "import requests"
      ]
    },
    {
      "cell_type": "code",
      "source": [
        "def scraping_ecofin(champ):\n",
        "\n",
        "  liens = []\n",
        "\n",
        "  for debut in range(0, champ+10, 10):\n",
        "\n",
        "    url = f\"https://www.agenceecofin.com/a-la-une/recherche-article/articles?submit_x=33&submit_y=16&filterTousLesFils=Tous&filterCategories=Sous-rubrique&filterDateFrom=2025-02-24&filterDateTo=2025-03-31&filterFrench=French&userSearch=0&testlimitstart={debut}\"\n",
        "\n",
        "    page = requests.get(url)\n",
        "\n",
        "    soup = BeautifulSoup(page.text, 'html')\n",
        "\n",
        "    tables = soup.findAll('table', class_='ts')\n",
        "    for table in tables:\n",
        "      a_tags = table.findAll('a')\n",
        "      for a_tag in a_tags:\n",
        "        href = a_tag.get(\"href\")\n",
        "        if href:\n",
        "            href = \"https://www.agenceecofin.com\"+ href\n",
        "            if href not in liens:\n",
        "              liens.append(href)\n",
        "  return liens"
      ],
      "metadata": {
        "id": "mlepPXa296eK"
      },
      "execution_count": 2,
      "outputs": []
    },
    {
      "cell_type": "code",
      "source": [
        "liens = scraping_ecofin(1050)"
      ],
      "metadata": {
        "colab": {
          "base_uri": "https://localhost:8080/"
        },
        "id": "J6CMhK37-O1I",
        "outputId": "4230b95a-bcc9-4529-c8d2-a2814849dc85"
      },
      "execution_count": null,
      "outputs": [
        {
          "output_type": "stream",
          "name": "stderr",
          "text": [
            "<ipython-input-2-5f2b7526be1f>:13: DeprecationWarning: Call to deprecated method findAll. (Replaced by find_all) -- Deprecated since version 4.0.0.\n",
            "  tables = soup.findAll('table', class_='ts')\n",
            "<ipython-input-2-5f2b7526be1f>:15: DeprecationWarning: Call to deprecated method findAll. (Replaced by find_all) -- Deprecated since version 4.0.0.\n",
            "  a_tags = table.findAll('a')\n"
          ]
        }
      ]
    },
    {
      "cell_type": "code",
      "source": [
        "liens"
      ],
      "metadata": {
        "id": "fevUIQoiA8y0"
      },
      "execution_count": null,
      "outputs": []
    },
    {
      "cell_type": "code",
      "source": [
        "import re\n",
        "def scraping_pages(url):\n",
        "\n",
        "  texte = []\n",
        "\n",
        "  page = requests.get(url)\n",
        "\n",
        "  soup = BeautifulSoup(page.text, 'html')\n",
        "\n",
        "  divs = soup.findAll(\"div\", class_=\"itemIntroText\")\n",
        "  for div in divs:\n",
        "    a_tags = div.findAll(\"p\", class_=\"texte textearticle\")\n",
        "    for a_tag in a_tags:\n",
        "      text_content = a_tag.text\n",
        "      text_content = re.sub(r'[\\[\\]\\,\\(\\)\\\"\\\\\\']', '', text_content)\n",
        "      texte.append(text_content)\n",
        "  return texte"
      ],
      "metadata": {
        "id": "mwxNqqrgAnwQ"
      },
      "execution_count": null,
      "outputs": []
    },
    {
      "cell_type": "code",
      "source": [
        "contenu = []\n",
        "for lien in liens:\n",
        "  contenu.append(scraping_pages(lien))"
      ],
      "metadata": {
        "id": "WEeC1nU2J1Be"
      },
      "execution_count": null,
      "outputs": []
    },
    {
      "cell_type": "code",
      "source": [
        "import pandas as pd\n",
        "\n",
        "ta = {'Lien':liens, 'Texte':contenu}\n",
        "df = pd.DataFrame(ta)\n",
        "\n",
        "df.to_csv('my_data.csv', index=False)"
      ],
      "metadata": {
        "id": "DRx_JAjDSEPo"
      },
      "execution_count": null,
      "outputs": []
    },
    {
      "cell_type": "code",
      "source": [
        "df.head()"
      ],
      "metadata": {
        "id": "2YvipFaHLuB0"
      },
      "execution_count": null,
      "outputs": []
    },
    {
      "cell_type": "code",
      "source": [],
      "metadata": {
        "id": "2pdhbr1TgtAz"
      },
      "execution_count": null,
      "outputs": []
    }
  ]
}